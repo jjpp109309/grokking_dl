{
 "cells": [
  {
   "cell_type": "markdown",
   "id": "e39c1bd9-4fdb-4c57-bd15-435de27346c0",
   "metadata": {},
   "source": [
    "# Ch 13: Introducting automatic optimization"
   ]
  },
  {
   "cell_type": "code",
   "execution_count": 18,
   "id": "43a670f9-a0f5-41a3-b3a3-1b49dfffe220",
   "metadata": {
    "tags": []
   },
   "outputs": [],
   "source": [
    "%load_ext autoreload"
   ]
  },
  {
   "cell_type": "code",
   "execution_count": 35,
   "id": "ec33efa7-5b73-4b74-9b82-985e4053a844",
   "metadata": {
    "tags": []
   },
   "outputs": [],
   "source": [
    "import autodiff as ad"
   ]
  },
  {
   "cell_type": "markdown",
   "id": "e316e249-186a-4122-8226-eca976e62f44",
   "metadata": {},
   "source": [
    "## tensor support"
   ]
  },
  {
   "cell_type": "code",
   "execution_count": 34,
   "id": "1cb1855c-37b9-4e7c-bb14-8c12e239018f",
   "metadata": {
    "tags": []
   },
   "outputs": [],
   "source": [
    "%autoreload now"
   ]
  },
  {
   "cell_type": "code",
   "execution_count": 36,
   "id": "1ed01267-a7c9-4176-b63f-85f205c17a93",
   "metadata": {
    "tags": []
   },
   "outputs": [
    {
     "data": {
      "text/plain": [
       "autodiff.tensor.Tensor"
      ]
     },
     "execution_count": 36,
     "metadata": {},
     "output_type": "execute_result"
    }
   ],
   "source": [
    "ad.Tensor"
   ]
  },
  {
   "cell_type": "code",
   "execution_count": 37,
   "id": "b4668dd6-8e8f-453d-90f7-c3dd462d4eb6",
   "metadata": {
    "tags": []
   },
   "outputs": [
    {
     "data": {
      "text/plain": [
       "array([1, 2, 3, 4, 5])"
      ]
     },
     "execution_count": 37,
     "metadata": {},
     "output_type": "execute_result"
    }
   ],
   "source": [
    "ad.Tensor([1, 2, 3, 4 ,5])"
   ]
  },
  {
   "cell_type": "code",
   "execution_count": 38,
   "id": "71f45ce0-3d84-460d-bf1e-114281849765",
   "metadata": {
    "tags": []
   },
   "outputs": [],
   "source": [
    "x = ad.Tensor([1, 2, 3, 4, 5])\n",
    "y = ad.Tensor([2, 3, 4, 5, 6])"
   ]
  },
  {
   "cell_type": "code",
   "execution_count": 39,
   "id": "46e8a3cd-bcf5-4c13-98f8-409dc8355144",
   "metadata": {
    "tags": []
   },
   "outputs": [
    {
     "data": {
      "text/plain": [
       "array([ 3,  5,  7,  9, 11])"
      ]
     },
     "execution_count": 39,
     "metadata": {},
     "output_type": "execute_result"
    }
   ],
   "source": [
    "x + y"
   ]
  },
  {
   "cell_type": "code",
   "execution_count": 40,
   "id": "565cac9b-0abc-496b-92b5-e305ca33c94a",
   "metadata": {
    "tags": []
   },
   "outputs": [
    {
     "data": {
      "text/plain": [
       "array(70)"
      ]
     },
     "execution_count": 40,
     "metadata": {},
     "output_type": "execute_result"
    }
   ],
   "source": [
    "x * y"
   ]
  },
  {
   "cell_type": "markdown",
   "id": "4d36f4bc-4b22-47ce-96f4-e3357c3cc892",
   "metadata": {},
   "source": [
    "## support for automatic gradient computation (autograd)"
   ]
  },
  {
   "cell_type": "code",
   "execution_count": 44,
   "id": "662df369-40b9-4a56-854e-0aaf871ee6f1",
   "metadata": {
    "tags": []
   },
   "outputs": [
    {
     "data": {
      "text/plain": [
       "(array([1, 2, 3, 4, 5]), array([2, 2, 2, 2, 2]))"
      ]
     },
     "execution_count": 44,
     "metadata": {},
     "output_type": "execute_result"
    }
   ],
   "source": [
    "x = Tensor([1, 2, 3, 4, 5])\n",
    "y = Tensor([2, 2, 2, 2, 2])\n",
    "x, y"
   ]
  },
  {
   "cell_type": "code",
   "execution_count": 45,
   "id": "bd849a72-3660-403d-9a56-b6bee493ca95",
   "metadata": {
    "tags": []
   },
   "outputs": [
    {
     "data": {
      "text/plain": [
       "array([3, 4, 5, 6, 7])"
      ]
     },
     "execution_count": 45,
     "metadata": {},
     "output_type": "execute_result"
    }
   ],
   "source": [
    "z = x + y\n",
    "z"
   ]
  },
  {
   "cell_type": "code",
   "execution_count": 47,
   "id": "15c57548-77c6-4706-a5e3-8e15c46ec57f",
   "metadata": {
    "tags": []
   },
   "outputs": [],
   "source": [
    "z.backward(Tensor([1, 1, 1, 1, 1]))"
   ]
  },
  {
   "cell_type": "code",
   "execution_count": 48,
   "id": "924f044e-d969-444e-a0ef-35e714809319",
   "metadata": {
    "tags": []
   },
   "outputs": [
    {
     "name": "stdout",
     "output_type": "stream",
     "text": [
      "[1 1 1 1 1]\n",
      "[1 1 1 1 1]\n"
     ]
    }
   ],
   "source": [
    "print(x.grad)\n",
    "print(y.grad)"
   ]
  },
  {
   "cell_type": "code",
   "execution_count": 49,
   "id": "cf4e4a1c-bc99-46e2-a123-4bc479f13e18",
   "metadata": {
    "tags": []
   },
   "outputs": [
    {
     "name": "stdout",
     "output_type": "stream",
     "text": [
      "[array([1, 2, 3, 4, 5]), array([2, 2, 2, 2, 2])]\n"
     ]
    }
   ],
   "source": [
    "print(z.creators)"
   ]
  },
  {
   "cell_type": "code",
   "execution_count": 51,
   "id": "8cfb1a3e-05f7-4c80-befd-853461aaf764",
   "metadata": {
    "tags": []
   },
   "outputs": [
    {
     "name": "stdout",
     "output_type": "stream",
     "text": [
      "add\n"
     ]
    }
   ],
   "source": [
    "print(z.creation_op)"
   ]
  },
  {
   "cell_type": "code",
   "execution_count": null,
   "id": "14c905a8-4fdd-4828-bdde-6828ddc368ae",
   "metadata": {},
   "outputs": [],
   "source": []
  }
 ],
 "metadata": {
  "kernelspec": {
   "display_name": "Python 3 (ipykernel)",
   "language": "python",
   "name": "python3"
  },
  "language_info": {
   "codemirror_mode": {
    "name": "ipython",
    "version": 3
   },
   "file_extension": ".py",
   "mimetype": "text/x-python",
   "name": "python",
   "nbconvert_exporter": "python",
   "pygments_lexer": "ipython3",
   "version": "3.10.12"
  },
  "toc-autonumbering": true
 },
 "nbformat": 4,
 "nbformat_minor": 5
}
