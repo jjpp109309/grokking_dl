{
  "nbformat": 4,
  "nbformat_minor": 0,
  "metadata": {
    "colab": {
      "provenance": [],
      "toc_visible": true,
      "authorship_tag": "ABX9TyOd2OzrJrMOXfNPkonzJZip",
      "include_colab_link": true
    },
    "kernelspec": {
      "name": "python3",
      "display_name": "Python 3"
    },
    "language_info": {
      "name": "python"
    }
  },
  "cells": [
    {
      "cell_type": "markdown",
      "metadata": {
        "id": "view-in-github",
        "colab_type": "text"
      },
      "source": [
        "<a href=\"https://colab.research.google.com/github/jjpp109309/grokking_dl/blob/main/notebooks/ch_06.ipynb\" target=\"_parent\"><img src=\"https://colab.research.google.com/assets/colab-badge.svg\" alt=\"Open In Colab\"/></a>"
      ]
    },
    {
      "cell_type": "code",
      "execution_count": 1,
      "metadata": {
        "id": "I1VR38tP9Ptj"
      },
      "outputs": [],
      "source": [
        "import numpy as np"
      ]
    },
    {
      "cell_type": "code",
      "source": [
        "np.random.seed(3301)"
      ],
      "metadata": {
        "id": "RvNkCT4l9XQ6"
      },
      "execution_count": 38,
      "outputs": []
    },
    {
      "cell_type": "code",
      "source": [
        "def relu(x):\n",
        "    return (x > 0) * x"
      ],
      "metadata": {
        "id": "qxiXWdFn9Yz3"
      },
      "execution_count": 39,
      "outputs": []
    },
    {
      "cell_type": "code",
      "source": [
        "def relu2deriv(x):\n",
        "    return x > 0"
      ],
      "metadata": {
        "id": "cZeS0VMM9cKt"
      },
      "execution_count": 40,
      "outputs": []
    },
    {
      "cell_type": "code",
      "source": [
        "# datset\n",
        "streetlights = np.array([[1, 0, 1], [0, 1, 1], [0, 0, 1], [1, 1, 1]])\n",
        "walk_vs_stop = np.array([[1, 1, 0, 0]]).T"
      ],
      "metadata": {
        "id": "24Jy3wdn93gI"
      },
      "execution_count": 41,
      "outputs": []
    },
    {
      "cell_type": "code",
      "source": [
        "alpha = 0.2\n",
        "hidden_size = 4"
      ],
      "metadata": {
        "id": "3p2fezZq9k2g"
      },
      "execution_count": 42,
      "outputs": []
    },
    {
      "cell_type": "code",
      "source": [
        "weights_0_1 = 2 * np.random.random((3, hidden_size)) - 1\n",
        "weights_1_2 = 2 * np.random.random((hidden_size, 1)) - 1"
      ],
      "metadata": {
        "id": "L57IhdPh9ndK"
      },
      "execution_count": 56,
      "outputs": []
    },
    {
      "cell_type": "code",
      "source": [
        "for iteration in range(100):\n",
        "    layer_2_error = 0\n",
        "    for i in range(len(streetlights)):\n",
        "        layer_0 = streetlights[i:i+1]\n",
        "        layer_1 = relu(np.dot(layer_0, weights_0_1))\n",
        "        layer_2 = relu(np.dot(layer_1, weights_1_2))\n",
        "\n",
        "        layer_2_error += np.sum((layer_2 - walk_vs_stop[i:i+1]) ** 2)\n",
        "\n",
        "        layer_2_delta = (walk_vs_stop[i:i+1] - layer_2)\n",
        "        layer_1_delta = layer_2_delta.dot(weights_1_2.T) * relu2deriv(layer_1)\n",
        "\n",
        "        weights_1_2 += alpha * layer_1.T.dot(layer_2_delta)\n",
        "        weights_0_1 += alpha * layer_0.T.dot(layer_1_delta)\n",
        "\n",
        "    if (iteration % 10) == 9:\n",
        "        print('Iteration:', iteration, 'Error:', layer_2_error)"
      ],
      "metadata": {
        "colab": {
          "base_uri": "https://localhost:8080/"
        },
        "id": "1yTcZNJc9xgl",
        "outputId": "d3273faf-a3ba-4621-f5b5-bf4b1bd4af07"
      },
      "execution_count": 57,
      "outputs": [
        {
          "output_type": "stream",
          "name": "stdout",
          "text": [
            "Iteration: 9 Error: 0.8561258155841664\n",
            "Iteration: 19 Error: 0.6438823023528625\n",
            "Iteration: 29 Error: 0.29209576917999985\n",
            "Iteration: 39 Error: 0.025440664961739523\n",
            "Iteration: 49 Error: 0.0005795471690107319\n",
            "Iteration: 59 Error: 1.549974711211594e-05\n",
            "Iteration: 69 Error: 4.369064694922525e-07\n",
            "Iteration: 79 Error: 1.3003375808280399e-08\n",
            "Iteration: 89 Error: 3.873300590646603e-10\n",
            "Iteration: 99 Error: 1.1760605198098344e-11\n"
          ]
        }
      ]
    },
    {
      "cell_type": "code",
      "source": [],
      "metadata": {
        "colab": {
          "base_uri": "https://localhost:8080/"
        },
        "id": "NduGCwKq_Hb5",
        "outputId": "4e0b55d1-dba4-4ce3-9dbb-1a08e1283839"
      },
      "execution_count": 17,
      "outputs": [
        {
          "output_type": "execute_result",
          "data": {
            "text/plain": [
              "array([[-0.63187848,  0.25890213,  0.24156782, -0.68840596]])"
            ]
          },
          "metadata": {},
          "execution_count": 17
        }
      ]
    },
    {
      "cell_type": "code",
      "source": [],
      "metadata": {
        "id": "lyX3YJ_8_Ijl"
      },
      "execution_count": null,
      "outputs": []
    }
  ]
}